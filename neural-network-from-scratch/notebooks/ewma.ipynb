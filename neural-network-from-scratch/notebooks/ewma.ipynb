{
 "cells": [
  {
   "cell_type": "code",
   "execution_count": 3,
   "id": "c1f7ebd0",
   "metadata": {},
   "outputs": [
    {
     "data": {
      "text/plain": [
       "([10, 17.0, 15.6, 22.18, 20.654], 85.434)"
      ]
     },
     "execution_count": 3,
     "metadata": {},
     "output_type": "execute_result"
    }
   ],
   "source": [
    "def ewma(theta, beta):\n",
    "     #theta.insert(0, bias)\n",
    "     ewma = [theta[0]]\n",
    "     for i in range(1, len(theta)):\n",
    "        ewma.append((beta * ewma[-1]) + (1 - beta) * theta[i])\n",
    "     return ewma, sum(ewma)\n",
    "\n",
    "\n",
    "theta = [10, 20, 15, 25, 20]\n",
    "beta = 0.3\n",
    "\n",
    "ewma(theta, beta)\n"
   ]
  },
  {
   "cell_type": "code",
   "execution_count": null,
   "id": "06eb5e8e",
   "metadata": {},
   "outputs": [],
   "source": [
    "def ewma(theta, beta):\n",
    "    "
   ]
  }
 ],
 "metadata": {
  "kernelspec": {
   "display_name": "neural-network-from-scratch",
   "language": "python",
   "name": "python3"
  },
  "language_info": {
   "codemirror_mode": {
    "name": "ipython",
    "version": 3
   },
   "file_extension": ".py",
   "mimetype": "text/x-python",
   "name": "python",
   "nbconvert_exporter": "python",
   "pygments_lexer": "ipython3",
   "version": "3.11.5"
  }
 },
 "nbformat": 4,
 "nbformat_minor": 5
}
