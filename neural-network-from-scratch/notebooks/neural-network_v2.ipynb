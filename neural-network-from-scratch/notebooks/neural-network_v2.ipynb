{
 "cells": [
  {
   "cell_type": "markdown",
   "id": "dcc8cef4-d674-41fa-8812-044fc577399e",
   "metadata": {},
   "source": [
    "## Neural Network v2 Implementation  22nd August 2025"
   ]
  },
  {
   "cell_type": "markdown",
   "id": "ebdc3481-f921-413b-a67a-7fede381150a",
   "metadata": {},
   "source": [
    "## Importing Dependencies"
   ]
  },
  {
   "cell_type": "code",
   "execution_count": null,
   "id": "ae7a6add-54e2-47a6-881e-a8d33f09004f",
   "metadata": {},
   "outputs": [
    {
     "name": "stderr",
     "output_type": "stream",
     "text": [
      "2025-08-31 17:38:45.357832: I external/local_xla/xla/tsl/cuda/cudart_stub.cc:31] Could not find cuda drivers on your machine, GPU will not be used.\n",
      "2025-08-31 17:38:45.449949: I tensorflow/core/util/port.cc:153] oneDNN custom operations are on. You may see slightly different numerical results due to floating-point round-off errors from different computation orders. To turn them off, set the environment variable `TF_ENABLE_ONEDNN_OPTS=0`.\n",
      "2025-08-31 17:38:49.301840: I tensorflow/core/platform/cpu_feature_guard.cc:210] This TensorFlow binary is optimized to use available CPU instructions in performance-critical operations.\n",
      "To enable the following instructions: AVX2 AVX512F AVX512_VNNI FMA, in other operations, rebuild TensorFlow with the appropriate compiler flags.\n",
      "2025-08-31 17:39:23.463989: I tensorflow/core/util/port.cc:153] oneDNN custom operations are on. You may see slightly different numerical results due to floating-point round-off errors from different computation orders. To turn them off, set the environment variable `TF_ENABLE_ONEDNN_OPTS=0`.\n",
      "2025-08-31 17:39:23.482234: I external/local_xla/xla/tsl/cuda/cudart_stub.cc:31] Could not find cuda drivers on your machine, GPU will not be used.\n"
     ]
    }
   ],
   "source": [
    "import numpy as np\n",
    "from utils import random_init, compute_validation_loss\n",
    "from optim.SGD import SGD\n",
    "from optim.Adam import Adam\n",
    "from optim.RMSprop import RMSprop\n",
    "from activation_func.activations import relu, cross_entropy_from_logits, sigmoid\n",
    "from keras.datasets import mnist\n",
    "from nn import nn"
   ]
  },
  {
   "cell_type": "markdown",
   "id": "7ab5169b-11ba-4b4e-ae6c-a665d0440cb5",
   "metadata": {},
   "source": [
    "## Training Loop MNIST Neural Network"
   ]
  },
  {
   "cell_type": "code",
   "execution_count": 13,
   "id": "c4a6802b-d95f-425c-b050-9d9137f5a901",
   "metadata": {},
   "outputs": [
    {
     "name": "stdout",
     "output_type": "stream",
     "text": [
      "Epochs: 1, Train Loss: 0.2929, Val Loss: 0.0308, Train Acc: 95.67, Val Acc: 95.74\n",
      "Epochs: 2, Train Loss: 0.1398, Val Loss: 0.0257, Train Acc: 97.11, Val Acc: 96.48\n",
      "Epochs: 3, Train Loss: 0.1039, Val Loss: 0.0268, Train Acc: 97.37, Val Acc: 96.40\n",
      "Epochs: 4, Train Loss: 0.0889, Val Loss: 0.0257, Train Acc: 97.95, Val Acc: 96.48\n",
      "Epochs: 5, Train Loss: 0.0770, Val Loss: 0.0244, Train Acc: 98.13, Val Acc: 96.83\n",
      "Epochs: 6, Train Loss: 0.0681, Val Loss: 0.0295, Train Acc: 97.99, Val Acc: 96.70\n",
      "Epochs: 7, Train Loss: 0.0568, Val Loss: 0.0248, Train Acc: 98.91, Val Acc: 97.25\n",
      "Epochs: 8, Train Loss: 0.0541, Val Loss: 0.0269, Train Acc: 98.89, Val Acc: 97.30\n",
      "Epochs: 9, Train Loss: 0.0477, Val Loss: 0.0285, Train Acc: 98.73, Val Acc: 97.22\n",
      "Epochs: 10, Train Loss: 0.0433, Val Loss: 0.0258, Train Acc: 99.19, Val Acc: 97.46\n",
      "Epochs: 11, Train Loss: 0.0416, Val Loss: 0.0303, Train Acc: 99.15, Val Acc: 97.24\n",
      "Epochs: 12, Train Loss: 0.0361, Val Loss: 0.0345, Train Acc: 98.78, Val Acc: 97.02\n",
      "Epochs: 13, Train Loss: 0.0348, Val Loss: 0.0336, Train Acc: 99.07, Val Acc: 97.23\n",
      "Epochs: 14, Train Loss: 0.0329, Val Loss: 0.0333, Train Acc: 99.26, Val Acc: 97.07\n",
      "Epochs: 15, Train Loss: 0.0276, Val Loss: 0.0314, Train Acc: 99.51, Val Acc: 97.60\n",
      "Epochs: 16, Train Loss: 0.0247, Val Loss: 0.0359, Train Acc: 99.44, Val Acc: 97.32\n",
      "Epochs: 17, Train Loss: 0.0254, Val Loss: 0.0369, Train Acc: 99.33, Val Acc: 97.30\n",
      "Epochs: 18, Train Loss: 0.0228, Val Loss: 0.0327, Train Acc: 99.42, Val Acc: 97.50\n",
      "Epochs: 19, Train Loss: 0.0241, Val Loss: 0.0325, Train Acc: 99.68, Val Acc: 97.60\n",
      "Epochs: 20, Train Loss: 0.0185, Val Loss: 0.0383, Train Acc: 99.51, Val Acc: 97.33\n",
      "Epochs: 21, Train Loss: 0.0198, Val Loss: 0.0391, Train Acc: 99.69, Val Acc: 97.52\n",
      "Epochs: 22, Train Loss: 0.0185, Val Loss: 0.0401, Train Acc: 99.66, Val Acc: 97.47\n",
      "Epochs: 23, Train Loss: 0.0226, Val Loss: 0.0400, Train Acc: 99.49, Val Acc: 97.57\n",
      "Epochs: 24, Train Loss: 0.0201, Val Loss: 0.0391, Train Acc: 99.64, Val Acc: 97.70\n",
      "Epochs: 25, Train Loss: 0.0200, Val Loss: 0.0462, Train Acc: 99.50, Val Acc: 97.32\n",
      "Epochs: 26, Train Loss: 0.0165, Val Loss: 0.0448, Train Acc: 99.73, Val Acc: 97.66\n",
      "Epochs: 27, Train Loss: 0.0193, Val Loss: 0.0454, Train Acc: 99.56, Val Acc: 97.53\n",
      "Epochs: 28, Train Loss: 0.0199, Val Loss: 0.0480, Train Acc: 99.29, Val Acc: 97.31\n",
      "Epochs: 29, Train Loss: 0.0144, Val Loss: 0.0478, Train Acc: 99.37, Val Acc: 97.09\n",
      "Epochs: 30, Train Loss: 0.0166, Val Loss: 0.0451, Train Acc: 99.78, Val Acc: 97.78\n"
     ]
    }
   ],
   "source": [
    "# Load and preprocess data\n",
    "(X_train, y_train), (X_test, y_test) = mnist.load_data()\n",
    "\n",
    "# Making a validation set\n",
    "X_val = X_train[-10240:,]\n",
    "y_val = y_train[-10240:]\n",
    "\n",
    "X_train = X_train[:-10240]\n",
    "y_train = y_train[:-10240]\n",
    "\n",
    "# Normalize and reshape\n",
    "X_train = X_train.reshape(X_train.shape[0], -1)\n",
    "X_test = X_test.reshape(X_test.shape[0], -1)\n",
    "X_val = X_val.reshape(X_val.shape[0], -1)\n",
    "\n",
    "X_train = X_train / 255.0\n",
    "X_test = X_test / 255.0\n",
    "X_val = X_val / 255.0\n",
    "\n",
    "# Parameters\n",
    "layers_dim = [784, 128, 64, 10]\n",
    "\n",
    "# Random initialization of parameters\n",
    "params = random_init(layers_dim)\n",
    "model = nn(params)\n",
    "\n",
    "# Mini batch\n",
    "batch_size = 64\n",
    "m = X_train.shape[0]\n",
    "m_val = X_val.shape[0]\n",
    "\n",
    "num_indices = m // batch_size\n",
    "num_indices_val = m_val // batch_size\n",
    "\n",
    "epochs = 30\n",
    "lr = 1e-2\n",
    "optimizer = RMSprop(params, lr)\n",
    "activations = [relu, relu, relu, relu, relu]\n",
    "\n",
    "# best config 1e-2 15epoch adam 64bs 99.6%\n",
    "# 2nd best config 1e-2 15 epoch rmsprop 64bs 99.88%\n",
    "for epoch in range(epochs):\n",
    "    # Shuffle on each epoch\n",
    "    perm = np.random.permutation(m)\n",
    "    X_shuffled = X_train[perm, :]\n",
    "    y_shuffled = y_train[perm,]\n",
    "\n",
    "    perm_val = np.random.permutation(m_val)\n",
    "    X_val_shuffled = X_val[perm_val, :]\n",
    "    y_val_shuffled = y_val[perm_val,]\n",
    "    \n",
    "    epoch_loss = 0.0\n",
    "    epoch_loss_val = 0.0 \n",
    "\n",
    "    # Training Loop\n",
    "    for i in range(num_indices):\n",
    "        start = i * batch_size\n",
    "        end = start + batch_size\n",
    "        X_batch = X_shuffled[start:end, :]\n",
    "        y_batch = y_shuffled[start:end,]\n",
    "\n",
    "        # Forward pass\n",
    "        Z, cache = model.forward(X_batch, activations)\n",
    "\n",
    "        # Compute loss\n",
    "        loss, dZ3 = cross_entropy_from_logits(Z, y_batch)\n",
    "        \n",
    "        # sum over samples\n",
    "        epoch_loss += loss * X_batch.shape[0]  \n",
    "        \n",
    "        # Backward pass\n",
    "        gradients = model.backward(y_batch, dZ3, cache, activations)\n",
    " \n",
    "        # Update weights \n",
    "        params = optimizer.step(gradients)\n",
    "        \n",
    "    # Validation Loop\n",
    "    for i in range(num_indices_val):\n",
    "        start = i * batch_size\n",
    "        end = start + batch_size \n",
    "\n",
    "        X_val_batch = X_val_shuffled[start:end, :]\n",
    "        y_val_batch = y_val_shuffled[start:end,]\n",
    "\n",
    "        val_loss = compute_validation_loss(model, X_val_batch, y_val_batch, activations, batch_norm = False)\n",
    "        epoch_loss_val += val_loss * X_val_batch.shape[0]\n",
    "        \n",
    "    epoch_loss /= m\n",
    "    epoch_loss_val /= m\n",
    "    train_acc = model.accuracy(X_train, y_train, activations, batch_norm = False)\n",
    "    val_acc = model.accuracy(X_val, y_val, activations, batch_norm = False)\n",
    "    \n",
    "    print(f\"Epochs: {epoch+1}, Train Loss: {epoch_loss:.4f}, Val Loss: {epoch_loss_val:.4f}, Train Acc: {train_acc * 100:.2f}, Val Acc: {val_acc * 100:.2f}\")\n"
   ]
  },
  {
   "cell_type": "markdown",
   "id": "202276d0-d150-4dd4-85a1-bf9b30eef115",
   "metadata": {},
   "source": [
    "## Test/Train Accuracy "
   ]
  },
  {
   "cell_type": "code",
   "execution_count": 15,
   "id": "4621fefb-d227-442c-b05f-0fd360a01e52",
   "metadata": {},
   "outputs": [
    {
     "name": "stdout",
     "output_type": "stream",
     "text": [
      "Test Accuracy: 97.60%\n",
      "Train Accuracy: 99.78%\n"
     ]
    }
   ],
   "source": [
    "# Evaluate \n",
    "test_acc = model.accuracy(X_test, y_test, activations, batch_norm = False)\n",
    "train_acc = model.accuracy(X_train, y_train, activations, batch_norm = False)\n",
    "\n",
    "print(f\"Test Accuracy: {test_acc * 100:.2f}%\")\n",
    "print(f\"Train Accuracy: {train_acc * 100:.2f}%\")"
   ]
  },
  {
   "cell_type": "markdown",
   "id": "077df8ba-a48e-4687-be7b-db9751441788",
   "metadata": {},
   "source": [
    "## Checking Model in Action with Images/logits"
   ]
  },
  {
   "cell_type": "code",
   "execution_count": 13,
   "id": "20d89def-efa9-4f8a-8655-71d3a4e7a4a6",
   "metadata": {},
   "outputs": [
    {
     "data": {
      "image/png": "[encoded data removed]",
      "text/plain": [
       "<Figure size 640x480 with 1 Axes>"
      ]
     },
     "metadata": {},
     "output_type": "display_data"
    },
    {
     "name": "stdout",
     "output_type": "stream",
     "text": [
      "Probabilities: [ -9.683  28.664  -3.102   2.867   1.532 -10.072  -1.563  11.176   3.618\n",
      "  -3.897]\n"
     ]
    },
    {
     "data": {
      "image/png": "[encoded data removed]",
      "text/plain": [
       "<Figure size 640x480 with 1 Axes>"
      ]
     },
     "metadata": {},
     "output_type": "display_data"
    },
    {
     "name": "stdout",
     "output_type": "stream",
     "text": [
      "Probabilities: [ 28.285 -23.67   -5.476 -12.671   1.285 -15.586  -2.921  -6.9    -9.404\n",
      "   1.035]\n"
     ]
    },
    {
     "data": {
      "image/png": "[encoded data removed]",
      "text/plain": [
       "<Figure size 640x480 with 1 Axes>"
      ]
     },
     "metadata": {},
     "output_type": "display_data"
    },
    {
     "name": "stdout",
     "output_type": "stream",
     "text": [
      "Probabilities: [-14.961 -11.243  22.201  -0.237   6.038   3.083  -7.44  -19.015 -21.275\n",
      "   4.716]\n"
     ]
    },
    {
     "data": {
      "image/png": "[encoded data removed]",
      "text/plain": [
       "<Figure size 640x480 with 1 Axes>"
      ]
     },
     "metadata": {},
     "output_type": "display_data"
    },
    {
     "name": "stdout",
     "output_type": "stream",
     "text": [
      "Probabilities: [ 21.936 -19.275  -6.881 -12.412  -2.806 -11.533  -3.355  -6.673 -11.817\n",
      "  -2.652]\n"
     ]
    }
   ],
   "source": [
    "import matplotlib.pyplot as plt\n",
    "\n",
    "def predict_single(X, params, model, acts):\n",
    "    # forward returns (output, cache)\n",
    "    probs, _ = model.forward(X[np.newaxis, :], acts)  \n",
    "    y_pred = np.argmax(probs, axis=1)[0]   # axis=1 because batch dimension is first\n",
    "    return y_pred, probs[0]\n",
    "\n",
    "for i in range(1,5):\n",
    "    idx = np.random.randint(0, X_test.shape[0])\n",
    "    x_example = X_test[idx]\n",
    "    y_true = y_test[idx]\n",
    "    \n",
    "    # Predict\n",
    "    y_pred, probs = predict_single(x_example, params, model, activations)\n",
    "    \n",
    "    # Reshape and plot image (assuming 28x28)\n",
    "    plt.imshow(x_example.reshape(28, 28), cmap='gray')\n",
    "    plt.title(f\"True: {y_true} | Predicted: {y_pred}\")\n",
    "    plt.axis('off')\n",
    "    plt.show()\n",
    "    \n",
    "    print(\"Probabilities:\", np.round(probs, 3))\n",
    "    "
   ]
  },
  {
   "cell_type": "code",
   "execution_count": 5,
   "id": "f6068145-2f08-40e6-a06e-682acec078cc",
   "metadata": {},
   "outputs": [
    {
     "name": "stdout",
     "output_type": "stream",
     "text": [
      "Epochs: 1, Train Loss: 0.3103, Val Loss: 0.0026, Train Acc: 95.08, Val Acc: 95.07\n",
      "Epochs: 2, Train Loss: 0.1677, Val Loss: 0.0023, Train Acc: 96.40, Val Acc: 95.78\n",
      "Epochs: 3, Train Loss: 0.1400, Val Loss: 0.0019, Train Acc: 97.32, Val Acc: 96.40\n",
      "Epochs: 4, Train Loss: 0.1227, Val Loss: 0.0019, Train Acc: 97.50, Val Acc: 96.48\n",
      "Epochs: 5, Train Loss: 0.1128, Val Loss: 0.0018, Train Acc: 97.64, Val Acc: 96.60\n",
      "Epochs: 6, Train Loss: 0.1051, Val Loss: 0.0017, Train Acc: 97.99, Val Acc: 96.92\n",
      "Epochs: 7, Train Loss: 0.0982, Val Loss: 0.0018, Train Acc: 98.00, Val Acc: 96.75\n",
      "Epochs: 8, Train Loss: 0.0907, Val Loss: 0.0016, Train Acc: 98.33, Val Acc: 97.17\n",
      "Epochs: 9, Train Loss: 0.0893, Val Loss: 0.0017, Train Acc: 98.38, Val Acc: 97.01\n",
      "Epochs: 10, Train Loss: 0.0851, Val Loss: 0.0018, Train Acc: 98.32, Val Acc: 96.76\n",
      "Epochs: 11, Train Loss: 0.0804, Val Loss: 0.0016, Train Acc: 98.57, Val Acc: 97.08\n",
      "Epochs: 12, Train Loss: 0.0762, Val Loss: 0.0016, Train Acc: 98.71, Val Acc: 97.26\n",
      "Epochs: 13, Train Loss: 0.0751, Val Loss: 0.0017, Train Acc: 98.77, Val Acc: 96.99\n",
      "Epochs: 14, Train Loss: 0.0734, Val Loss: 0.0017, Train Acc: 98.93, Val Acc: 97.26\n",
      "Epochs: 15, Train Loss: 0.0718, Val Loss: 0.0018, Train Acc: 98.75, Val Acc: 96.82\n",
      "Epochs: 16, Train Loss: 0.0687, Val Loss: 0.0017, Train Acc: 98.94, Val Acc: 97.10\n",
      "Epochs: 17, Train Loss: 0.0634, Val Loss: 0.0018, Train Acc: 98.95, Val Acc: 97.02\n",
      "Epochs: 18, Train Loss: 0.0661, Val Loss: 0.0017, Train Acc: 99.10, Val Acc: 97.20\n",
      "Epochs: 19, Train Loss: 0.0628, Val Loss: 0.0018, Train Acc: 99.07, Val Acc: 97.02\n",
      "Epochs: 20, Train Loss: 0.0615, Val Loss: 0.0019, Train Acc: 99.09, Val Acc: 96.90\n",
      "Epochs: 21, Train Loss: 0.0581, Val Loss: 0.0019, Train Acc: 98.99, Val Acc: 97.04\n",
      "Epochs: 22, Train Loss: 0.0607, Val Loss: 0.0020, Train Acc: 99.01, Val Acc: 96.77\n",
      "Epochs: 23, Train Loss: 0.0590, Val Loss: 0.0018, Train Acc: 99.08, Val Acc: 97.20\n",
      "Epochs: 24, Train Loss: 0.0563, Val Loss: 0.0018, Train Acc: 99.17, Val Acc: 97.15\n",
      "Epochs: 25, Train Loss: 0.0546, Val Loss: 0.0020, Train Acc: 99.07, Val Acc: 96.81\n",
      "Epochs: 26, Train Loss: 0.0516, Val Loss: 0.0019, Train Acc: 99.20, Val Acc: 96.95\n",
      "Epochs: 27, Train Loss: 0.0523, Val Loss: 0.0020, Train Acc: 99.23, Val Acc: 96.98\n",
      "Epochs: 28, Train Loss: 0.0530, Val Loss: 0.0020, Train Acc: 99.02, Val Acc: 96.71\n",
      "Epochs: 29, Train Loss: 0.0498, Val Loss: 0.0020, Train Acc: 99.26, Val Acc: 96.87\n",
      "Epochs: 30, Train Loss: 0.0511, Val Loss: 0.0019, Train Acc: 99.33, Val Acc: 97.04\n",
      "CPU times: user 2min 39s, sys: 1.6 s, total: 2min 40s\n",
      "Wall time: 47.3 s\n"
     ]
    }
   ],
   "source": [
    "%%time\n",
    "\n",
    "import numpy as np\n",
    "from utils import random_init, compute_validation_loss\n",
    "from optim.SGD import SGD\n",
    "from optim.Adam import Adam\n",
    "from optim.RMSprop import RMSprop\n",
    "from activation_func.activations import relu, cross_entropy_from_logits\n",
    "from keras.datasets import mnist\n",
    "from nn import nn\n",
    "\n",
    "# Load and preprocess data\n",
    "(X_train, y_train), (X_test, y_test) = mnist.load_data()\n",
    "\n",
    "# Making a validation set\n",
    "X_val = X_train[-10240:,]\n",
    "y_val = y_train[-10240:]\n",
    "\n",
    "X_train = X_train[:-10240]\n",
    "y_train = y_train[:-10240]\n",
    "\n",
    "# Normalize and reshape\n",
    "X_train = X_train.reshape(X_train.shape[0], -1)\n",
    "X_test = X_test.reshape(X_test.shape[0], -1)\n",
    "X_val = X_val.reshape(X_val.shape[0], -1)\n",
    "\n",
    "X_train = X_train / 255.0\n",
    "X_test = X_test / 255.0\n",
    "X_val = X_val / 255.0\n",
    "\n",
    "# Parameters\n",
    "layers_dim = [784, 32, 16, 10]\n",
    "\n",
    "# Random initialization of parameters\n",
    "params = random_init(layers_dim, batch_norm = True)\n",
    "\n",
    "model = nn(params) \n",
    "activations = [relu, relu, relu, relu]\n",
    "# Mini batch\n",
    "batch_size = 64\n",
    "\n",
    "m = X_train.shape[0]\n",
    "m_val = X_val.shape[0]\n",
    "\n",
    "num_indices = m // batch_size\n",
    "num_indices_val = m_val // batch_size\n",
    "epochs = 30\n",
    "lr = 1e-2\n",
    "\n",
    "# Optimizer\n",
    "optimizer = Adam(params, lr, batch_norm = True)\n",
    "\n",
    "for epoch in range(epochs):\n",
    "    # Shuffle on each epoch\n",
    "    perm = np.random.permutation(m)\n",
    "    X_shuffled = X_train[perm, :]\n",
    "    y_shuffled = y_train[perm,]\n",
    "    \n",
    "    perm_val = np.random.permutation(m_val)\n",
    "    X_val_shuffled = X_val[perm_val, :]\n",
    "    y_val_shuffled = y_val[perm_val,]\n",
    "    \n",
    "    epoch_loss = 0.0\n",
    "    epoch_loss_val = 0.0\n",
    "    # Training Loop\n",
    "    for i in range(num_indices):\n",
    "        start = i * batch_size\n",
    "        end = start + batch_size\n",
    "        X_batch = X_shuffled[start:end, :]\n",
    "        y_batch = y_shuffled[start:end,]\n",
    "        \n",
    "        # Forward pass\n",
    "        Z, cache = model.forward(X = X_batch, activations = activations, batch_norm = True, verbose = False)\n",
    "\n",
    "        # Compute loss\n",
    "        train_loss, dZ3 = cross_entropy_from_logits(Z, y_batch)\n",
    "        \n",
    "        # train loss\n",
    "        epoch_loss += train_loss * X_batch.shape[0]\n",
    "        \n",
    "        # Backward pass\n",
    "        gradients = model.backward(y_batch, dZ3, cache, activations, batch_norm = True)\n",
    " \n",
    "        # Update weights\n",
    "        params = optimizer.step(gradients)\n",
    "    # Validation loop\n",
    "    for i in range(num_indices_val):\n",
    "        start = i * batch_size\n",
    "        end =  start + batch_size\n",
    "        X_val_batch = X_val_shuffled[start:end, :]\n",
    "        y_val_batch = y_val_shuffled[start:end,]\n",
    "\n",
    "        # val loss\n",
    "        val_loss = compute_validation_loss(model, X_val_batch, y_val_batch, activations, batch_norm = True)\n",
    "        epoch_loss_val += val_loss \n",
    "        \n",
    "    epoch_loss /= m\n",
    "    epoch_loss_val /= m_val\n",
    "    \n",
    "    train_acc = model.accuracy(X_train, y_train, activations, batch_norm = True)\n",
    "    val_acc = model.accuracy(X_val, y_val, activations, batch_norm = True)\n",
    "    print(f\"Epochs: {epoch+1}, Train Loss: {epoch_loss:.4f}, Val Loss: {epoch_loss_val:.4f}, Train Acc: {train_acc * 100:.2f}, Val Acc: {val_acc * 100:.2f}\")\n"
   ]
  },
  {
   "cell_type": "code",
   "execution_count": 20,
   "id": "0d9fd76d-1fbe-4ea5-9ae3-5673b2134545",
   "metadata": {},
   "outputs": [
    {
     "name": "stdout",
     "output_type": "stream",
     "text": [
      "Epoch 1/30\n",
      "\u001b[1m778/778\u001b[0m \u001b[32m━━━━━━━━━━━━━━━━━━━━\u001b[0m\u001b[37m\u001b[0m \u001b[1m3s\u001b[0m 2ms/step - accuracy: 0.9235 - loss: 0.2504 - val_accuracy: 0.9547 - val_loss: 0.1602\n",
      "Epoch 2/30\n",
      "\u001b[1m778/778\u001b[0m \u001b[32m━━━━━━━━━━━━━━━━━━━━\u001b[0m\u001b[37m\u001b[0m \u001b[1m2s\u001b[0m 2ms/step - accuracy: 0.9570 - loss: 0.1476 - val_accuracy: 0.9539 - val_loss: 0.1843\n",
      "Epoch 3/30\n",
      "\u001b[1m778/778\u001b[0m \u001b[32m━━━━━━━━━━━━━━━━━━━━\u001b[0m\u001b[37m\u001b[0m \u001b[1m2s\u001b[0m 2ms/step - accuracy: 0.9647 - loss: 0.1229 - val_accuracy: 0.9480 - val_loss: 0.2129\n",
      "Epoch 4/30\n",
      "\u001b[1m778/778\u001b[0m \u001b[32m━━━━━━━━━━━━━━━━━━━━\u001b[0m\u001b[37m\u001b[0m \u001b[1m2s\u001b[0m 3ms/step - accuracy: 0.9669 - loss: 0.1196 - val_accuracy: 0.9665 - val_loss: 0.1470\n",
      "Epoch 5/30\n",
      "\u001b[1m778/778\u001b[0m \u001b[32m━━━━━━━━━━━━━━━━━━━━\u001b[0m\u001b[37m\u001b[0m \u001b[1m2s\u001b[0m 2ms/step - accuracy: 0.9718 - loss: 0.0997 - val_accuracy: 0.9655 - val_loss: 0.1573\n",
      "Epoch 6/30\n",
      "\u001b[1m778/778\u001b[0m \u001b[32m━━━━━━━━━━━━━━━━━━━━\u001b[0m\u001b[37m\u001b[0m \u001b[1m2s\u001b[0m 2ms/step - accuracy: 0.9740 - loss: 0.0925 - val_accuracy: 0.9647 - val_loss: 0.1790\n",
      "Epoch 7/30\n",
      "\u001b[1m778/778\u001b[0m \u001b[32m━━━━━━━━━━━━━━━━━━━━\u001b[0m\u001b[37m\u001b[0m \u001b[1m2s\u001b[0m 3ms/step - accuracy: 0.9748 - loss: 0.0903 - val_accuracy: 0.9619 - val_loss: 0.1924\n",
      "Epoch 8/30\n",
      "\u001b[1m778/778\u001b[0m \u001b[32m━━━━━━━━━━━━━━━━━━━━\u001b[0m\u001b[37m\u001b[0m \u001b[1m2s\u001b[0m 3ms/step - accuracy: 0.9747 - loss: 0.0972 - val_accuracy: 0.9672 - val_loss: 0.1563\n",
      "Epoch 9/30\n",
      "\u001b[1m778/778\u001b[0m \u001b[32m━━━━━━━━━━━━━━━━━━━━\u001b[0m\u001b[37m\u001b[0m \u001b[1m2s\u001b[0m 2ms/step - accuracy: 0.9792 - loss: 0.0758 - val_accuracy: 0.9652 - val_loss: 0.1944\n",
      "Epoch 10/30\n",
      "\u001b[1m778/778\u001b[0m \u001b[32m━━━━━━━━━━━━━━━━━━━━\u001b[0m\u001b[37m\u001b[0m \u001b[1m2s\u001b[0m 2ms/step - accuracy: 0.9798 - loss: 0.0774 - val_accuracy: 0.9657 - val_loss: 0.1715\n",
      "Epoch 11/30\n",
      "\u001b[1m778/778\u001b[0m \u001b[32m━━━━━━━━━━━━━━━━━━━━\u001b[0m\u001b[37m\u001b[0m \u001b[1m2s\u001b[0m 2ms/step - accuracy: 0.9804 - loss: 0.0730 - val_accuracy: 0.9625 - val_loss: 0.2131\n",
      "Epoch 12/30\n",
      "\u001b[1m778/778\u001b[0m \u001b[32m━━━━━━━━━━━━━━━━━━━━\u001b[0m\u001b[37m\u001b[0m \u001b[1m2s\u001b[0m 2ms/step - accuracy: 0.9811 - loss: 0.0742 - val_accuracy: 0.9660 - val_loss: 0.2023\n",
      "Epoch 13/30\n",
      "\u001b[1m778/778\u001b[0m \u001b[32m━━━━━━━━━━━━━━━━━━━━\u001b[0m\u001b[37m\u001b[0m \u001b[1m2s\u001b[0m 2ms/step - accuracy: 0.9817 - loss: 0.0724 - val_accuracy: 0.9662 - val_loss: 0.1920\n",
      "Epoch 14/30\n",
      "\u001b[1m778/778\u001b[0m \u001b[32m━━━━━━━━━━━━━━━━━━━━\u001b[0m\u001b[37m\u001b[0m \u001b[1m2s\u001b[0m 2ms/step - accuracy: 0.9825 - loss: 0.0699 - val_accuracy: 0.9702 - val_loss: 0.1657\n",
      "Epoch 15/30\n",
      "\u001b[1m778/778\u001b[0m \u001b[32m━━━━━━━━━━━━━━━━━━━━\u001b[0m\u001b[37m\u001b[0m \u001b[1m2s\u001b[0m 2ms/step - accuracy: 0.9846 - loss: 0.0596 - val_accuracy: 0.9687 - val_loss: 0.1939\n",
      "Epoch 16/30\n",
      "\u001b[1m778/778\u001b[0m \u001b[32m━━━━━━━━━━━━━━━━━━━━\u001b[0m\u001b[37m\u001b[0m \u001b[1m2s\u001b[0m 3ms/step - accuracy: 0.9842 - loss: 0.0652 - val_accuracy: 0.9683 - val_loss: 0.2090\n",
      "Epoch 17/30\n",
      "\u001b[1m778/778\u001b[0m \u001b[32m━━━━━━━━━━━━━━━━━━━━\u001b[0m\u001b[37m\u001b[0m \u001b[1m2s\u001b[0m 2ms/step - accuracy: 0.9843 - loss: 0.0657 - val_accuracy: 0.9699 - val_loss: 0.1927\n",
      "Epoch 18/30\n",
      "\u001b[1m778/778\u001b[0m \u001b[32m━━━━━━━━━━━━━━━━━━━━\u001b[0m\u001b[37m\u001b[0m \u001b[1m2s\u001b[0m 2ms/step - accuracy: 0.9875 - loss: 0.0516 - val_accuracy: 0.9657 - val_loss: 0.2425\n",
      "Epoch 19/30\n",
      "\u001b[1m778/778\u001b[0m \u001b[32m━━━━━━━━━━━━━━━━━━━━\u001b[0m\u001b[37m\u001b[0m \u001b[1m2s\u001b[0m 3ms/step - accuracy: 0.9864 - loss: 0.0563 - val_accuracy: 0.9696 - val_loss: 0.1931\n",
      "Epoch 20/30\n",
      "\u001b[1m778/778\u001b[0m \u001b[32m━━━━━━━━━━━━━━━━━━━━\u001b[0m\u001b[37m\u001b[0m \u001b[1m2s\u001b[0m 2ms/step - accuracy: 0.9866 - loss: 0.0556 - val_accuracy: 0.9680 - val_loss: 0.2258\n",
      "Epoch 21/30\n",
      "\u001b[1m778/778\u001b[0m \u001b[32m━━━━━━━━━━━━━━━━━━━━\u001b[0m\u001b[37m\u001b[0m \u001b[1m2s\u001b[0m 3ms/step - accuracy: 0.9871 - loss: 0.0535 - val_accuracy: 0.9689 - val_loss: 0.2030\n",
      "Epoch 22/30\n",
      "\u001b[1m778/778\u001b[0m \u001b[32m━━━━━━━━━━━━━━━━━━━━\u001b[0m\u001b[37m\u001b[0m \u001b[1m2s\u001b[0m 2ms/step - accuracy: 0.9869 - loss: 0.0594 - val_accuracy: 0.9685 - val_loss: 0.2193\n",
      "Epoch 23/30\n",
      "\u001b[1m778/778\u001b[0m \u001b[32m━━━━━━━━━━━━━━━━━━━━\u001b[0m\u001b[37m\u001b[0m \u001b[1m2s\u001b[0m 2ms/step - accuracy: 0.9868 - loss: 0.0544 - val_accuracy: 0.9710 - val_loss: 0.2372\n",
      "Epoch 24/30\n",
      "\u001b[1m778/778\u001b[0m \u001b[32m━━━━━━━━━━━━━━━━━━━━\u001b[0m\u001b[37m\u001b[0m \u001b[1m2s\u001b[0m 2ms/step - accuracy: 0.9891 - loss: 0.0480 - val_accuracy: 0.9693 - val_loss: 0.2058\n",
      "Epoch 25/30\n",
      "\u001b[1m778/778\u001b[0m \u001b[32m━━━━━━━━━━━━━━━━━━━━\u001b[0m\u001b[37m\u001b[0m \u001b[1m2s\u001b[0m 2ms/step - accuracy: 0.9891 - loss: 0.0473 - val_accuracy: 0.9682 - val_loss: 0.2059\n",
      "Epoch 26/30\n",
      "\u001b[1m778/778\u001b[0m \u001b[32m━━━━━━━━━━━━━━━━━━━━\u001b[0m\u001b[37m\u001b[0m \u001b[1m2s\u001b[0m 2ms/step - accuracy: 0.9881 - loss: 0.0549 - val_accuracy: 0.9681 - val_loss: 0.2444\n",
      "Epoch 27/30\n",
      "\u001b[1m778/778\u001b[0m \u001b[32m━━━━━━━━━━━━━━━━━━━━\u001b[0m\u001b[37m\u001b[0m \u001b[1m2s\u001b[0m 2ms/step - accuracy: 0.9892 - loss: 0.0455 - val_accuracy: 0.9693 - val_loss: 0.2274\n",
      "Epoch 28/30\n",
      "\u001b[1m778/778\u001b[0m \u001b[32m━━━━━━━━━━━━━━━━━━━━\u001b[0m\u001b[37m\u001b[0m \u001b[1m2s\u001b[0m 3ms/step - accuracy: 0.9879 - loss: 0.0552 - val_accuracy: 0.9723 - val_loss: 0.2252\n",
      "Epoch 29/30\n",
      "\u001b[1m778/778\u001b[0m \u001b[32m━━━━━━━━━━━━━━━━━━━━\u001b[0m\u001b[37m\u001b[0m \u001b[1m2s\u001b[0m 2ms/step - accuracy: 0.9885 - loss: 0.0536 - val_accuracy: 0.9721 - val_loss: 0.2357\n",
      "Epoch 30/30\n",
      "\u001b[1m778/778\u001b[0m \u001b[32m━━━━━━━━━━━━━━━━━━━━\u001b[0m\u001b[37m\u001b[0m \u001b[1m2s\u001b[0m 2ms/step - accuracy: 0.9877 - loss: 0.0603 - val_accuracy: 0.9668 - val_loss: 0.2491\n"
     ]
    }
   ],
   "source": [
    "import tensorflow as tf\n",
    "from tensorflow.keras.datasets import mnist\n",
    "from tensorflow.keras.models import Sequential\n",
    "from tensorflow.keras.layers import Dense, Flatten, BatchNormalization\n",
    "from tensorflow.keras.optimizers import Adam, SGD\n",
    "import numpy as np\n",
    "\n",
    "# Set seed for reproducibility\n",
    "tf.random.set_seed(0)\n",
    "np.random.seed(0)\n",
    "\n",
    "# Load and preprocess data\n",
    "(X_train, y_train), (X_test, y_test) = mnist.load_data()\n",
    "\n",
    "# Normalize pixel values to be between 0 and 1\n",
    "X_train = X_train.astype('float32') / 255.0\n",
    "X_test = X_test.astype('float32') / 255.0\n",
    "\n",
    "# Define the model architecture using Sequential API\n",
    "layers_dim = [784, 128, 64, 10]\n",
    "model = Sequential()\n",
    "model.add(Flatten(input_shape=(28, 28))) # Flattens the 28x28 image into a 784-element vector\n",
    "\n",
    "# Add hidden layers with Batch Normalization and ReLU activation\n",
    "for i in range(1, len(layers_dim) - 1):\n",
    "    model.add(Dense(layers_dim[i]))\n",
    "    #model.add(BatchNormalization())\n",
    "    model.add(tf.keras.layers.Activation('relu'))\n",
    "\n",
    "# Add the final output layer\n",
    "model.add(Dense(layers_dim[-1]))\n",
    "\n",
    "# Compile the model with the specified optimizer and loss\n",
    "lr = 1e-2\n",
    "optimizer = Adam(learning_rate=lr)\n",
    "model.compile(optimizer=optimizer,\n",
    "              loss=tf.keras.losses.SparseCategoricalCrossentropy(from_logits=True),\n",
    "              metrics=['accuracy'])\n",
    "\n",
    "# Train the model, using a validation split to mimic the original code's validation set\n",
    "epochs = 30\n",
    "history = model.fit(\n",
    "    X_train,\n",
    "    y_train,\n",
    "    batch_size=64,\n",
    "    epochs=epochs,\n",
    "    validation_split=10240/60000, \n",
    "    shuffle=True\n",
    ")"
   ]
  },
  {
   "cell_type": "code",
   "execution_count": null,
   "id": "1491dd3a-8900-4985-8b05-63833e444097",
   "metadata": {},
   "outputs": [],
   "source": []
  }
 ],
 "metadata": {
  "kernelspec": {
   "display_name": "nn4",
   "language": "python",
   "name": "neural-network-from-scratch"
  },
  "language_info": {
   "codemirror_mode": {
    "name": "ipython",
    "version": 3
   },
   "file_extension": ".py",
   "mimetype": "text/x-python",
   "name": "python",
   "nbconvert_exporter": "python",
   "pygments_lexer": "ipython3",
   "version": "3.13.7"
  }
 },
 "nbformat": 4,
 "nbformat_minor": 5
}
